{
 "cells": [
  {
   "cell_type": "code",
   "execution_count": 1,
   "metadata": {},
   "outputs": [
    {
     "name": "stdout",
     "output_type": "stream",
     "text": [
      "Requirement already satisfied: keras in c:\\programdata\\anaconda3\\lib\\site-packages (2.9.0)\n",
      "Note: you may need to restart the kernel to use updated packages.\n"
     ]
    }
   ],
   "source": []
  },
  {
   "cell_type": "code",
   "execution_count": 1,
   "metadata": {},
   "outputs": [
    {
     "name": "stdout",
     "output_type": "stream",
     "text": [
      "Requirement already satisfied: tensorflow in c:\\users\\vi-pc\\appdata\\roaming\\python\\python38\\site-packages (2.9.1)\n",
      "Requirement already satisfied: libclang>=13.0.0 in c:\\users\\vi-pc\\appdata\\roaming\\python\\python38\\site-packages (from tensorflow) (14.0.1)\n",
      "Requirement already satisfied: packaging in c:\\programdata\\anaconda3\\lib\\site-packages (from tensorflow) (20.4)\n",
      "Requirement already satisfied: wrapt>=1.11.0 in c:\\programdata\\anaconda3\\lib\\site-packages (from tensorflow) (1.11.2)\n",
      "Requirement already satisfied: astunparse>=1.6.0 in c:\\programdata\\anaconda3\\lib\\site-packages (from tensorflow) (1.6.3)\n",
      "Requirement already satisfied: protobuf<3.20,>=3.9.2 in c:\\programdata\\anaconda3\\lib\\site-packages (from tensorflow) (3.19.4)\n",
      "Requirement already satisfied: setuptools in c:\\programdata\\anaconda3\\lib\\site-packages (from tensorflow) (49.2.0.post20200714)\n",
      "Requirement already satisfied: absl-py>=1.0.0 in c:\\programdata\\anaconda3\\lib\\site-packages (from tensorflow) (1.0.0)\n",
      "Requirement already satisfied: tensorboard<2.10,>=2.9 in c:\\users\\vi-pc\\appdata\\roaming\\python\\python38\\site-packages (from tensorflow) (2.9.1)\n",
      "Requirement already satisfied: numpy>=1.20 in c:\\users\\vi-pc\\appdata\\roaming\\python\\python38\\site-packages (from tensorflow) (1.23.1)\n",
      "Requirement already satisfied: six>=1.12.0 in c:\\programdata\\anaconda3\\lib\\site-packages (from tensorflow) (1.15.0)\n",
      "Requirement already satisfied: keras<2.10.0,>=2.9.0rc0 in c:\\programdata\\anaconda3\\lib\\site-packages (from tensorflow) (2.9.0)\n",
      "Requirement already satisfied: termcolor>=1.1.0 in c:\\programdata\\anaconda3\\lib\\site-packages (from tensorflow) (1.1.0)\n",
      "Requirement already satisfied: tensorflow-estimator<2.10.0,>=2.9.0rc0 in c:\\users\\vi-pc\\appdata\\roaming\\python\\python38\\site-packages (from tensorflow) (2.9.0)\n",
      "Requirement already satisfied: google-pasta>=0.1.1 in c:\\programdata\\anaconda3\\lib\\site-packages (from tensorflow) (0.2.0)\n",
      "Requirement already satisfied: gast<=0.4.0,>=0.2.1 in c:\\programdata\\anaconda3\\lib\\site-packages (from tensorflow) (0.4.0)\n",
      "Requirement already satisfied: keras-preprocessing>=1.1.1 in c:\\users\\vi-pc\\appdata\\roaming\\python\\python38\\site-packages (from tensorflow) (1.1.2)\n",
      "Requirement already satisfied: h5py>=2.9.0 in c:\\programdata\\anaconda3\\lib\\site-packages (from tensorflow) (2.10.0)\n",
      "Requirement already satisfied: grpcio<2.0,>=1.24.3 in c:\\users\\vi-pc\\appdata\\roaming\\python\\python38\\site-packages (from tensorflow) (1.47.0)\n",
      "Requirement already satisfied: opt-einsum>=2.3.2 in c:\\users\\vi-pc\\appdata\\roaming\\python\\python38\\site-packages (from tensorflow) (3.3.0)\n",
      "Requirement already satisfied: flatbuffers<2,>=1.12 in c:\\programdata\\anaconda3\\lib\\site-packages (from tensorflow) (1.12)\n",
      "Requirement already satisfied: tensorflow-io-gcs-filesystem>=0.23.1 in c:\\users\\vi-pc\\appdata\\roaming\\python\\python38\\site-packages (from tensorflow) (0.26.0)\n",
      "Requirement already satisfied: typing-extensions>=3.6.6 in c:\\programdata\\anaconda3\\lib\\site-packages (from tensorflow) (3.7.4.2)\n",
      "Requirement already satisfied: pyparsing>=2.0.2 in c:\\programdata\\anaconda3\\lib\\site-packages (from packaging->tensorflow) (2.4.7)\n",
      "Requirement already satisfied: wheel<1.0,>=0.23.0 in c:\\programdata\\anaconda3\\lib\\site-packages (from astunparse>=1.6.0->tensorflow) (0.34.2)\n",
      "Requirement already satisfied: tensorboard-data-server<0.7.0,>=0.6.0 in c:\\users\\vi-pc\\appdata\\roaming\\python\\python38\\site-packages (from tensorboard<2.10,>=2.9->tensorflow) (0.6.1)\n",
      "Requirement already satisfied: google-auth-oauthlib<0.5,>=0.4.1 in c:\\users\\vi-pc\\appdata\\roaming\\python\\python38\\site-packages (from tensorboard<2.10,>=2.9->tensorflow) (0.4.6)\n",
      "Requirement already satisfied: tensorboard-plugin-wit>=1.6.0 in c:\\users\\vi-pc\\appdata\\roaming\\python\\python38\\site-packages (from tensorboard<2.10,>=2.9->tensorflow) (1.8.1)\n",
      "Requirement already satisfied: markdown>=2.6.8 in c:\\users\\vi-pc\\appdata\\roaming\\python\\python38\\site-packages (from tensorboard<2.10,>=2.9->tensorflow) (3.4.1)\n",
      "Requirement already satisfied: requests<3,>=2.21.0 in c:\\programdata\\anaconda3\\lib\\site-packages (from tensorboard<2.10,>=2.9->tensorflow) (2.24.0)\n",
      "Requirement already satisfied: werkzeug>=1.0.1 in c:\\programdata\\anaconda3\\lib\\site-packages (from tensorboard<2.10,>=2.9->tensorflow) (1.0.1)\n",
      "Requirement already satisfied: google-auth<3,>=1.6.3 in c:\\users\\vi-pc\\appdata\\roaming\\python\\python38\\site-packages (from tensorboard<2.10,>=2.9->tensorflow) (2.9.1)\n",
      "Requirement already satisfied: requests-oauthlib>=0.7.0 in c:\\users\\vi-pc\\appdata\\roaming\\python\\python38\\site-packages (from google-auth-oauthlib<0.5,>=0.4.1->tensorboard<2.10,>=2.9->tensorflow) (1.3.1)\n",
      "Requirement already satisfied: importlib-metadata>=4.4; python_version < \"3.10\" in c:\\users\\vi-pc\\appdata\\roaming\\python\\python38\\site-packages (from markdown>=2.6.8->tensorboard<2.10,>=2.9->tensorflow) (4.12.0)\n",
      "Requirement already satisfied: idna<3,>=2.5 in c:\\programdata\\anaconda3\\lib\\site-packages (from requests<3,>=2.21.0->tensorboard<2.10,>=2.9->tensorflow) (2.10)\n",
      "Requirement already satisfied: urllib3!=1.25.0,!=1.25.1,<1.26,>=1.21.1 in c:\\programdata\\anaconda3\\lib\\site-packages (from requests<3,>=2.21.0->tensorboard<2.10,>=2.9->tensorflow) (1.25.9)\n",
      "Requirement already satisfied: certifi>=2017.4.17 in c:\\programdata\\anaconda3\\lib\\site-packages (from requests<3,>=2.21.0->tensorboard<2.10,>=2.9->tensorflow) (2020.6.20)\n",
      "Requirement already satisfied: chardet<4,>=3.0.2 in c:\\programdata\\anaconda3\\lib\\site-packages (from requests<3,>=2.21.0->tensorboard<2.10,>=2.9->tensorflow) (3.0.4)\n",
      "Requirement already satisfied: pyasn1-modules>=0.2.1 in c:\\users\\vi-pc\\appdata\\roaming\\python\\python38\\site-packages (from google-auth<3,>=1.6.3->tensorboard<2.10,>=2.9->tensorflow) (0.2.8)\n",
      "Requirement already satisfied: rsa<5,>=3.1.4; python_version >= \"3.6\" in c:\\users\\vi-pc\\appdata\\roaming\\python\\python38\\site-packages (from google-auth<3,>=1.6.3->tensorboard<2.10,>=2.9->tensorflow) (4.9)\n",
      "Requirement already satisfied: cachetools<6.0,>=2.0.0 in c:\\users\\vi-pc\\appdata\\roaming\\python\\python38\\site-packages (from google-auth<3,>=1.6.3->tensorboard<2.10,>=2.9->tensorflow) (5.2.0)\n",
      "Requirement already satisfied: oauthlib>=3.0.0 in c:\\users\\vi-pc\\appdata\\roaming\\python\\python38\\site-packages (from requests-oauthlib>=0.7.0->google-auth-oauthlib<0.5,>=0.4.1->tensorboard<2.10,>=2.9->tensorflow) (3.2.0)\n",
      "Requirement already satisfied: zipp>=0.5 in c:\\programdata\\anaconda3\\lib\\site-packages (from importlib-metadata>=4.4; python_version < \"3.10\"->markdown>=2.6.8->tensorboard<2.10,>=2.9->tensorflow) (3.1.0)\n",
      "Requirement already satisfied: pyasn1<0.5.0,>=0.4.6 in c:\\users\\vi-pc\\appdata\\roaming\\python\\python38\\site-packages (from pyasn1-modules>=0.2.1->google-auth<3,>=1.6.3->tensorboard<2.10,>=2.9->tensorflow) (0.4.8)\n",
      "Note: you may need to restart the kernel to use updated packages.\n"
     ]
    }
   ],
   "source": [
    "pip install tensorflow --user\n",
    "!pip install keras\n",
    "!pip install daytime\n",
    "!pip install torch"
   ]
  },
  {
   "cell_type": "code",
   "execution_count": 22,
   "metadata": {},
   "outputs": [],
   "source": [
    "import numpy as np\n",
    "import pandas as pd\n",
    "from tensorflow import keras\n",
    "from tensorflow.keras import layers\n",
    "from matplotlib import pyplot as plt\n",
    "import matplotlib.pyplot as plt\n",
    "from datetime import datetime\n",
    "import matplotlib.dates as mdates\n"
   ]
  },
  {
   "cell_type": "code",
   "execution_count": 3,
   "metadata": {},
   "outputs": [],
   "source": [
    "master_url_root = \"https://raw.githubusercontent.com/numenta/NAB/master/data/\"\n",
    "\n",
    "df_small_noise_url_suffix = \"artificialNoAnomaly/art_daily_small_noise.csv\"\n",
    "df_small_noise_url = master_url_root + df_small_noise_url_suffix\n",
    "df_small_noise = pd.read_csv(df_small_noise_url)\n",
    "\n",
    "df_daily_jumpsup_url_suffix = \"artificialWithAnomaly/art_daily_jumpsup.csv\"\n",
    "df_daily_jumpsup_url = master_url_root + df_daily_jumpsup_url_suffix\n",
    "df_daily_jumpsup = pd.read_csv(df_daily_jumpsup_url)"
   ]
  },
  {
   "cell_type": "code",
   "execution_count": 4,
   "metadata": {},
   "outputs": [
    {
     "name": "stdout",
     "output_type": "stream",
     "text": [
      "             timestamp      value\n",
      "0  2014-04-01 00:00:00  18.324919\n",
      "1  2014-04-01 00:05:00  21.970327\n",
      "2  2014-04-01 00:10:00  18.624806\n",
      "3  2014-04-01 00:15:00  21.953684\n",
      "4  2014-04-01 00:20:00  21.909120\n",
      "             timestamp      value\n",
      "0  2014-04-01 00:00:00  19.761252\n",
      "1  2014-04-01 00:05:00  20.500833\n",
      "2  2014-04-01 00:10:00  19.961641\n",
      "3  2014-04-01 00:15:00  21.490266\n",
      "4  2014-04-01 00:20:00  20.187739\n"
     ]
    }
   ],
   "source": [
    "print(df_small_noise.head())\n",
    "\n",
    "print(df_daily_jumpsup.head())"
   ]
  },
  {
   "cell_type": "code",
   "execution_count": 23,
   "metadata": {},
   "outputs": [],
   "source": [
    "def plot_dates_values(data):\n",
    "    dates = data[\"timestamp\"].to_list()\n",
    "    values = data[\"value\"].to_list()\n",
    "    dates = [datetime.strptime(x, \"%Y-%m-%d %H:%M:%S\") for x in dates]\n",
    "    plt.subplots_adjust(bottom=0.2)\n",
    "    plt.xticks(rotation=25)\n",
    "    ax = plt.gca()\n",
    "    xfmt = mdates.DateFormatter(\"%Y-%m-%d %H:%M:%S\")\n",
    "    ax.xaxis.set_major_formatter(xfmt)\n",
    "    plt.plot(dates, values)\n",
    "    plt.show()"
   ]
  },
  {
   "cell_type": "code",
   "execution_count": 24,
   "metadata": {},
   "outputs": [
    {
     "data": {
      "image/png": "[encoded data removed]",
      "text/plain": [
       "<Figure size 432x288 with 1 Axes>"
      ]
     },
     "metadata": {
      "needs_background": "light"
     },
     "output_type": "display_data"
    }
   ],
   "source": [
    "plot_dates_values(df_small_noise)"
   ]
  },
  {
   "cell_type": "code",
   "execution_count": 25,
   "metadata": {},
   "outputs": [
    {
     "data": {
      "image/png": "[encoded data removed]",
      "text/plain": [
       "<Figure size 432x288 with 1 Axes>"
      ]
     },
     "metadata": {
      "needs_background": "light"
     },
     "output_type": "display_data"
    }
   ],
   "source": [
    "plot_dates_values(df_daily_jumpsup)"
   ]
  },
  {
   "cell_type": "code",
   "execution_count": null,
   "metadata": {},
   "outputs": [],
   "source": [
    "'''Get data values from the training timeseries data file and normalize the value data. We have a value for every 5 mins for 14 days.\n",
    "\n",
    "24 * 60 / 5 = 288 timesteps per day\n",
    "288 * 14 = 4032 data points in total'''"
   ]
  },
  {
   "cell_type": "code",
   "execution_count": 26,
   "metadata": {},
   "outputs": [
    {
     "data": {
      "text/plain": [
       "4032"
      ]
     },
     "execution_count": 26,
     "metadata": {},
     "output_type": "execute_result"
    }
   ],
   "source": [
    "def get_value_from_df(df):\n",
    "    return df.value.to_list()\n",
    "\n",
    "\n",
    "def normalize(values):\n",
    "    mean = np.mean(values)\n",
    "    values -= mean\n",
    "    std = np.std(values)\n",
    "    values /= std\n",
    "    return values, mean, std\n",
    "\n",
    "\n",
    "# Get the `value` column from the training dataframe.\n",
    "training_value = get_value_from_df(df_small_noise)\n",
    "\n",
    "# Normalize `value` and save the mean and std we get,\n",
    "# for normalizing test data.\n",
    "training_value, training_mean, training_std = normalize(training_value)\n",
    "len(training_value)"
   ]
  },
  {
   "cell_type": "code",
   "execution_count": null,
   "metadata": {},
   "outputs": [],
   "source": [
    "'''Create sequences\n",
    "Create sequences combining TIME_STEPS contiguous data values from the training data.'''"
   ]
  },
  {
   "cell_type": "code",
   "execution_count": 27,
   "metadata": {},
   "outputs": [
    {
     "name": "stdout",
     "output_type": "stream",
     "text": [
      "Training input shape:  (3744, 288, 1)\n"
     ]
    }
   ],
   "source": [
    "TIME_STEPS = 288\n",
    "\n",
    "\n",
    "def create_sequences(values, time_steps=TIME_STEPS):\n",
    "    output = []\n",
    "    for i in range(len(values) - time_steps):\n",
    "        output.append(values[i : (i + time_steps)])\n",
    "    # Convert 2D sequences into 3D as we will be feeding this into\n",
    "    # a convolutional layer.\n",
    "    return np.expand_dims(output, axis=2)\n",
    "\n",
    "\n",
    "x_train = create_sequences(training_value)\n",
    "print(\"Training input shape: \", x_train.shape)"
   ]
  },
  {
   "cell_type": "code",
   "execution_count": null,
   "metadata": {},
   "outputs": [],
   "source": [
    "'''Build a model\n",
    "We will build a convolutional reconstruction autoencoder model. \n",
    "The model will take input of shape (batch_size, sequence_length, num_features) and \n",
    "return output of the same shape. In this case, sequence_length is 288 and num_features is 1.'''"
   ]
  },
  {
   "cell_type": "code",
   "execution_count": 28,
   "metadata": {},
   "outputs": [
    {
     "name": "stdout",
     "output_type": "stream",
     "text": [
      "Model: \"sequential\"\n",
      "_________________________________________________________________\n",
      " Layer (type)                Output Shape              Param #   \n",
      "=================================================================\n",
      " conv1d (Conv1D)             (None, 288, 32)           512       \n",
      "                                                                 \n",
      " lstm_1 (LSTM)               (None, 25)                5800      \n",
      "                                                                 \n",
      " repeat_vector (RepeatVector  (None, 288, 25)          0         \n",
      " )                                                               \n",
      "                                                                 \n",
      " lstm_2 (LSTM)               (None, 288, 25)           5100      \n",
      "                                                                 \n",
      " conv1d_1 (Conv1D)           (None, 288, 32)           12032     \n",
      "                                                                 \n",
      " time_distributed (TimeDistr  (None, 288, 1)           33        \n",
      " ibuted)                                                         \n",
      "                                                                 \n",
      "=================================================================\n",
      "Total params: 23,477\n",
      "Trainable params: 23,477\n",
      "Non-trainable params: 0\n",
      "_________________________________________________________________\n"
     ]
    }
   ],
   "source": [
    "n_steps = x_train.shape[1]\n",
    "n_features = x_train.shape[2]\n",
    "\n",
    "keras.backend.clear_session()\n",
    "model = keras.Sequential(\n",
    "    [\n",
    "        layers.Input(shape=(n_steps, n_features)),\n",
    "        layers.Conv1D(filters=32, kernel_size=15, padding='same', data_format='channels_last',\n",
    "            dilation_rate=1, activation=\"linear\"),\n",
    "        layers.LSTM(\n",
    "            units=25, activation=\"tanh\", name=\"lstm_1\", return_sequences=False\n",
    "        ),\n",
    "        layers.RepeatVector(n_steps),\n",
    "        layers.LSTM(\n",
    "            units=25, activation=\"tanh\", name=\"lstm_2\", return_sequences=True\n",
    "        ),\n",
    "        layers.Conv1D(filters=32, kernel_size=15, padding='same', data_format='channels_last',\n",
    "            dilation_rate=1, activation=\"linear\"),\n",
    "        layers.TimeDistributed(layers.Dense(1, activation='linear'))\n",
    "    ]\n",
    ")\n",
    "model.compile(optimizer=keras.optimizers.Adam(learning_rate=0.001), loss=\"mse\")\n",
    "model.summary()"
   ]
  },
  {
   "cell_type": "code",
   "execution_count": null,
   "metadata": {},
   "outputs": [],
   "source": [
    "'''Train the model\n",
    "Please note that we are using x_train as both the input and the target since this is a reconstruction model.'''"
   ]
  },
  {
   "cell_type": "code",
   "execution_count": 44,
   "metadata": {},
   "outputs": [
    {
     "name": "stdout",
     "output_type": "stream",
     "text": [
      "Epoch 1/200\n",
      "27/27 [==============================] - 5s 202ms/step - loss: 0.4641 - val_loss: 0.4616\n",
      "Epoch 2/200\n",
      "27/27 [==============================] - 5s 203ms/step - loss: 0.5406 - val_loss: 0.5321\n",
      "Epoch 3/200\n",
      "27/27 [==============================] - 5s 202ms/step - loss: 0.4987 - val_loss: 0.5005\n",
      "Epoch 4/200\n",
      "27/27 [==============================] - 6s 208ms/step - loss: 0.5124 - val_loss: 0.4599\n",
      "Epoch 5/200\n",
      "27/27 [==============================] - 6s 205ms/step - loss: 0.4656 - val_loss: 0.4284\n",
      "Epoch 6/200\n",
      "27/27 [==============================] - 5s 202ms/step - loss: 0.4887 - val_loss: 0.4529\n",
      "Epoch 7/200\n",
      "27/27 [==============================] - 6s 208ms/step - loss: 0.4851 - val_loss: 0.4254\n",
      "Epoch 8/200\n",
      "27/27 [==============================] - 6s 208ms/step - loss: 0.4419 - val_loss: 0.4131\n",
      "Epoch 9/200\n",
      "27/27 [==============================] - 6s 206ms/step - loss: 0.3487 - val_loss: 0.3060\n",
      "Epoch 10/200\n",
      "27/27 [==============================] - 6s 211ms/step - loss: 0.2842 - val_loss: 0.3546\n",
      "Epoch 11/200\n",
      "27/27 [==============================] - 6s 210ms/step - loss: 0.2601 - val_loss: 0.1680\n",
      "Epoch 12/200\n",
      "27/27 [==============================] - 5s 203ms/step - loss: 0.1235 - val_loss: 0.1216\n",
      "Epoch 13/200\n",
      "27/27 [==============================] - 6s 205ms/step - loss: 0.1097 - val_loss: 0.0995\n",
      "Epoch 14/200\n",
      "27/27 [==============================] - 5s 203ms/step - loss: 0.0969 - val_loss: 0.0972\n",
      "Epoch 15/200\n",
      "27/27 [==============================] - 6s 205ms/step - loss: 0.1092 - val_loss: 0.1515\n",
      "Epoch 16/200\n",
      "27/27 [==============================] - 6s 205ms/step - loss: 0.1050 - val_loss: 0.1084\n",
      "Epoch 17/200\n",
      "27/27 [==============================] - 6s 205ms/step - loss: 0.0858 - val_loss: 0.0721\n",
      "Epoch 18/200\n",
      "27/27 [==============================] - 5s 202ms/step - loss: 0.0749 - val_loss: 0.0720\n",
      "Epoch 19/200\n",
      "27/27 [==============================] - 5s 202ms/step - loss: 0.0738 - val_loss: 0.0674\n",
      "Epoch 20/200\n",
      "27/27 [==============================] - 6s 208ms/step - loss: 0.0781 - val_loss: 0.1084\n",
      "Epoch 21/200\n",
      "27/27 [==============================] - 5s 200ms/step - loss: 0.0977 - val_loss: 0.0778\n",
      "Epoch 22/200\n",
      "27/27 [==============================] - 6s 204ms/step - loss: 0.0645 - val_loss: 0.0679\n",
      "Epoch 23/200\n",
      "27/27 [==============================] - 6s 207ms/step - loss: 0.0717 - val_loss: 0.0792\n",
      "Epoch 24/200\n",
      "27/27 [==============================] - 5s 202ms/step - loss: 0.0634 - val_loss: 0.0622\n",
      "Epoch 25/200\n",
      "27/27 [==============================] - 6s 206ms/step - loss: 0.0591 - val_loss: 0.0561\n",
      "Epoch 26/200\n",
      "27/27 [==============================] - 6s 207ms/step - loss: 0.0875 - val_loss: 0.0696\n",
      "Epoch 27/200\n",
      "27/27 [==============================] - 6s 205ms/step - loss: 0.0734 - val_loss: 0.0709\n",
      "Epoch 28/200\n",
      "27/27 [==============================] - 6s 204ms/step - loss: 0.0654 - val_loss: 0.0592\n",
      "Epoch 29/200\n",
      "27/27 [==============================] - 5s 202ms/step - loss: 0.0637 - val_loss: 0.0829\n",
      "Epoch 30/200\n",
      "27/27 [==============================] - 6s 207ms/step - loss: 0.0596 - val_loss: 0.0550\n",
      "Epoch 31/200\n",
      "27/27 [==============================] - 6s 220ms/step - loss: 0.0564 - val_loss: 0.0561\n",
      "Epoch 32/200\n",
      "27/27 [==============================] - 6s 216ms/step - loss: 0.0630 - val_loss: 0.0775\n",
      "Epoch 33/200\n",
      "27/27 [==============================] - 6s 206ms/step - loss: 0.0681 - val_loss: 0.0533\n",
      "Epoch 34/200\n",
      "27/27 [==============================] - 6s 229ms/step - loss: 0.0579 - val_loss: 0.0612\n",
      "Epoch 35/200\n",
      "27/27 [==============================] - 6s 206ms/step - loss: 0.0673 - val_loss: 0.0944\n",
      "Epoch 36/200\n",
      "27/27 [==============================] - 5s 203ms/step - loss: 0.0832 - val_loss: 0.0611\n",
      "Epoch 37/200\n",
      "27/27 [==============================] - 6s 205ms/step - loss: 0.0604 - val_loss: 0.0523\n",
      "Epoch 38/200\n",
      "27/27 [==============================] - 5s 201ms/step - loss: 0.0646 - val_loss: 0.0509\n",
      "Epoch 39/200\n",
      "27/27 [==============================] - 6s 210ms/step - loss: 0.0501 - val_loss: 0.0493\n",
      "Epoch 40/200\n",
      "27/27 [==============================] - 6s 206ms/step - loss: 0.0485 - val_loss: 0.0502\n",
      "Epoch 41/200\n",
      "27/27 [==============================] - 6s 206ms/step - loss: 0.0568 - val_loss: 0.0774\n",
      "Epoch 42/200\n",
      "27/27 [==============================] - 6s 216ms/step - loss: 0.0629 - val_loss: 0.0625\n",
      "Epoch 43/200\n",
      "27/27 [==============================] - 6s 226ms/step - loss: 0.0589 - val_loss: 0.0591\n",
      "Epoch 44/200\n",
      "27/27 [==============================] - 6s 228ms/step - loss: 0.0521 - val_loss: 0.0717\n",
      "Epoch 45/200\n",
      "27/27 [==============================] - 6s 233ms/step - loss: 0.0538 - val_loss: 0.0522\n",
      "Epoch 46/200\n",
      "27/27 [==============================] - 6s 229ms/step - loss: 0.0480 - val_loss: 0.0458\n",
      "Epoch 47/200\n",
      "27/27 [==============================] - 6s 227ms/step - loss: 0.0509 - val_loss: 0.0773\n",
      "Epoch 48/200\n",
      "27/27 [==============================] - 6s 235ms/step - loss: 0.0618 - val_loss: 0.0607\n",
      "Epoch 49/200\n",
      "27/27 [==============================] - 6s 212ms/step - loss: 0.0495 - val_loss: 0.0463\n",
      "Epoch 50/200\n",
      "27/27 [==============================] - 6s 207ms/step - loss: 0.0518 - val_loss: 0.0556\n",
      "Epoch 51/200\n",
      "27/27 [==============================] - 5s 200ms/step - loss: 0.0532 - val_loss: 0.0620\n",
      "Epoch 52/200\n",
      "27/27 [==============================] - 5s 200ms/step - loss: 0.0533 - val_loss: 0.0465\n",
      "Epoch 53/200\n",
      "27/27 [==============================] - 6s 204ms/step - loss: 0.0489 - val_loss: 0.0491\n",
      "Epoch 54/200\n",
      "27/27 [==============================] - 5s 201ms/step - loss: 0.0528 - val_loss: 0.0888\n",
      "Epoch 55/200\n",
      "27/27 [==============================] - 6s 204ms/step - loss: 0.0610 - val_loss: 0.0768\n",
      "Epoch 56/200\n",
      "27/27 [==============================] - 6s 209ms/step - loss: 0.0577 - val_loss: 0.0766\n",
      "Epoch 57/200\n",
      "27/27 [==============================] - 6s 205ms/step - loss: 0.0531 - val_loss: 0.0601\n",
      "Epoch 58/200\n",
      "27/27 [==============================] - 5s 202ms/step - loss: 0.0601 - val_loss: 0.0696\n",
      "Epoch 59/200\n",
      "27/27 [==============================] - 6s 208ms/step - loss: 0.0614 - val_loss: 0.0572\n",
      "Epoch 60/200\n",
      "27/27 [==============================] - 6s 207ms/step - loss: 0.0617 - val_loss: 0.0585\n",
      "Epoch 61/200\n",
      "27/27 [==============================] - 6s 204ms/step - loss: 0.0682 - val_loss: 0.0623\n",
      "Epoch 62/200\n",
      "27/27 [==============================] - 6s 205ms/step - loss: 0.0579 - val_loss: 0.0537\n",
      "Epoch 63/200\n",
      "27/27 [==============================] - 5s 200ms/step - loss: 0.0606 - val_loss: 0.0593\n",
      "Epoch 64/200\n",
      "27/27 [==============================] - 5s 199ms/step - loss: 0.0471 - val_loss: 0.0498\n",
      "Epoch 65/200\n",
      "27/27 [==============================] - 6s 205ms/step - loss: 0.0434 - val_loss: 0.0419\n",
      "Epoch 66/200\n",
      "27/27 [==============================] - 5s 201ms/step - loss: 0.0451 - val_loss: 0.0448\n",
      "Epoch 67/200\n",
      "27/27 [==============================] - 5s 200ms/step - loss: 0.0430 - val_loss: 0.0448\n",
      "Epoch 68/200\n",
      "27/27 [==============================] - 6s 205ms/step - loss: 0.0478 - val_loss: 0.0457\n",
      "Epoch 69/200\n",
      "27/27 [==============================] - 5s 203ms/step - loss: 0.0441 - val_loss: 0.0447\n",
      "Epoch 70/200\n",
      "27/27 [==============================] - 5s 203ms/step - loss: 0.0453 - val_loss: 0.0506\n",
      "Epoch 71/200\n",
      "27/27 [==============================] - 6s 209ms/step - loss: 0.0468 - val_loss: 0.0561\n",
      "Epoch 72/200\n",
      "27/27 [==============================] - 5s 200ms/step - loss: 0.0507 - val_loss: 0.0579\n",
      "Epoch 73/200\n",
      "27/27 [==============================] - 5s 200ms/step - loss: 0.0519 - val_loss: 0.0433\n",
      "Epoch 74/200\n",
      "27/27 [==============================] - 6s 204ms/step - loss: 0.0479 - val_loss: 0.0511\n",
      "Epoch 75/200\n",
      "27/27 [==============================] - 5s 201ms/step - loss: 0.0549 - val_loss: 0.0703\n",
      "Epoch 76/200\n",
      "27/27 [==============================] - 5s 199ms/step - loss: 0.0548 - val_loss: 0.0565\n",
      "Epoch 77/200\n",
      "27/27 [==============================] - 5s 201ms/step - loss: 0.0436 - val_loss: 0.0425\n",
      "Epoch 78/200\n",
      "27/27 [==============================] - 5s 201ms/step - loss: 0.0427 - val_loss: 0.0424\n",
      "Epoch 79/200\n",
      "27/27 [==============================] - 5s 200ms/step - loss: 0.0438 - val_loss: 0.0582\n",
      "Epoch 80/200\n",
      "27/27 [==============================] - 6s 205ms/step - loss: 0.0430 - val_loss: 0.0411\n",
      "Epoch 81/200\n",
      "27/27 [==============================] - 5s 200ms/step - loss: 0.0550 - val_loss: 0.0787\n",
      "Epoch 82/200\n",
      "27/27 [==============================] - 5s 199ms/step - loss: 0.0487 - val_loss: 0.0398\n",
      "Epoch 83/200\n",
      "27/27 [==============================] - 5s 202ms/step - loss: 0.0392 - val_loss: 0.0380\n",
      "Epoch 84/200\n",
      "27/27 [==============================] - 5s 203ms/step - loss: 0.0415 - val_loss: 0.0697\n",
      "Epoch 85/200\n",
      "27/27 [==============================] - 5s 201ms/step - loss: 0.0639 - val_loss: 0.0638\n",
      "Epoch 86/200\n",
      "27/27 [==============================] - 5s 202ms/step - loss: 0.0781 - val_loss: 0.0972\n",
      "Epoch 87/200\n",
      "27/27 [==============================] - 5s 199ms/step - loss: 0.0790 - val_loss: 0.0785\n",
      "Epoch 88/200\n",
      "27/27 [==============================] - 5s 200ms/step - loss: 0.0676 - val_loss: 0.0853\n",
      "Epoch 89/200\n",
      "27/27 [==============================] - 5s 198ms/step - loss: 0.0567 - val_loss: 0.0576\n",
      "Epoch 90/200\n",
      "27/27 [==============================] - 5s 198ms/step - loss: 0.0523 - val_loss: 0.0935\n",
      "Epoch 91/200\n",
      "27/27 [==============================] - 5s 203ms/step - loss: 0.0691 - val_loss: 0.0738\n",
      "Epoch 92/200\n",
      "27/27 [==============================] - 5s 203ms/step - loss: 0.0551 - val_loss: 0.0489\n",
      "Epoch 93/200\n",
      "27/27 [==============================] - 5s 203ms/step - loss: 0.0520 - val_loss: 0.0462\n",
      "Epoch 94/200\n",
      "27/27 [==============================] - 6s 206ms/step - loss: 0.0413 - val_loss: 0.0440\n",
      "Epoch 95/200\n",
      "27/27 [==============================] - 6s 208ms/step - loss: 0.0431 - val_loss: 0.0457\n",
      "Epoch 96/200\n",
      "27/27 [==============================] - 5s 200ms/step - loss: 0.0405 - val_loss: 0.0422\n",
      "Epoch 97/200\n",
      "27/27 [==============================] - 6s 204ms/step - loss: 0.0443 - val_loss: 0.0436\n",
      "Epoch 98/200\n",
      "27/27 [==============================] - 5s 202ms/step - loss: 0.0442 - val_loss: 0.0459\n",
      "Epoch 99/200\n",
      "27/27 [==============================] - 5s 200ms/step - loss: 0.0433 - val_loss: 0.0598\n",
      "Epoch 100/200\n",
      "27/27 [==============================] - 6s 205ms/step - loss: 0.0429 - val_loss: 0.0372\n",
      "Epoch 101/200\n",
      "27/27 [==============================] - 5s 201ms/step - loss: 0.0430 - val_loss: 0.0539\n",
      "Epoch 102/200\n",
      "27/27 [==============================] - 5s 197ms/step - loss: 0.0411 - val_loss: 0.0439\n",
      "Epoch 103/200\n",
      "27/27 [==============================] - 5s 204ms/step - loss: 0.0506 - val_loss: 0.0560\n",
      "Epoch 104/200\n",
      "27/27 [==============================] - 6s 206ms/step - loss: 0.0445 - val_loss: 0.0375\n",
      "Epoch 105/200\n",
      "27/27 [==============================] - 5s 203ms/step - loss: 0.0447 - val_loss: 0.0432\n",
      "Epoch 106/200\n",
      "27/27 [==============================] - 6s 220ms/step - loss: 0.0391 - val_loss: 0.0410\n",
      "Epoch 107/200\n",
      "27/27 [==============================] - 6s 211ms/step - loss: 0.0388 - val_loss: 0.0353\n",
      "Epoch 108/200\n",
      "27/27 [==============================] - 6s 204ms/step - loss: 0.0386 - val_loss: 0.0559\n",
      "Epoch 109/200\n",
      "27/27 [==============================] - 6s 218ms/step - loss: 0.0531 - val_loss: 0.0476\n",
      "Epoch 110/200\n",
      "27/27 [==============================] - 6s 204ms/step - loss: 0.0853 - val_loss: 0.0744\n",
      "Epoch 111/200\n",
      "27/27 [==============================] - 5s 199ms/step - loss: 0.0631 - val_loss: 0.0490\n",
      "Epoch 112/200\n",
      "27/27 [==============================] - 5s 203ms/step - loss: 0.0411 - val_loss: 0.0370\n",
      "Epoch 113/200\n",
      "27/27 [==============================] - 5s 200ms/step - loss: 0.0363 - val_loss: 0.0360\n",
      "Epoch 114/200\n",
      "27/27 [==============================] - 6s 205ms/step - loss: 0.0363 - val_loss: 0.0351\n",
      "Epoch 115/200\n",
      "27/27 [==============================] - 6s 212ms/step - loss: 0.0360 - val_loss: 0.0379\n",
      "Epoch 116/200\n",
      "27/27 [==============================] - 6s 207ms/step - loss: 0.0364 - val_loss: 0.0400\n",
      "Epoch 117/200\n",
      "27/27 [==============================] - 6s 206ms/step - loss: 0.0401 - val_loss: 0.0399\n",
      "Epoch 118/200\n",
      "27/27 [==============================] - 6s 210ms/step - loss: 0.0446 - val_loss: 0.0529\n",
      "Epoch 119/200\n",
      "27/27 [==============================] - 6s 214ms/step - loss: 0.0494 - val_loss: 0.0413\n",
      "Epoch 120/200\n",
      "27/27 [==============================] - 6s 204ms/step - loss: 0.0407 - val_loss: 0.0360\n",
      "Epoch 121/200\n",
      "27/27 [==============================] - 6s 218ms/step - loss: 0.0391 - val_loss: 0.0450\n",
      "Epoch 122/200\n",
      "27/27 [==============================] - 7s 250ms/step - loss: 0.0374 - val_loss: 0.0409\n",
      "Epoch 123/200\n",
      "27/27 [==============================] - 6s 236ms/step - loss: 0.0478 - val_loss: 0.0665\n",
      "Epoch 124/200\n",
      "27/27 [==============================] - 6s 234ms/step - loss: 0.0438 - val_loss: 0.0430\n",
      "Epoch 125/200\n",
      "27/27 [==============================] - 6s 215ms/step - loss: 0.0368 - val_loss: 0.0385\n",
      "Epoch 126/200\n",
      "27/27 [==============================] - 6s 216ms/step - loss: 0.0388 - val_loss: 0.0450\n",
      "Epoch 127/200\n",
      "27/27 [==============================] - 6s 205ms/step - loss: 0.0394 - val_loss: 0.0330\n",
      "Epoch 128/200\n",
      "27/27 [==============================] - 6s 211ms/step - loss: 0.0357 - val_loss: 0.0324\n",
      "Epoch 129/200\n",
      "27/27 [==============================] - 5s 203ms/step - loss: 0.0392 - val_loss: 0.0368\n",
      "Epoch 130/200\n",
      "27/27 [==============================] - 5s 201ms/step - loss: 0.0387 - val_loss: 0.0398\n",
      "Epoch 131/200\n",
      "27/27 [==============================] - 6s 205ms/step - loss: 0.0446 - val_loss: 0.0358\n",
      "Epoch 132/200\n",
      "27/27 [==============================] - 5s 204ms/step - loss: 0.0439 - val_loss: 0.0465\n",
      "Epoch 133/200\n",
      "27/27 [==============================] - 6s 222ms/step - loss: 0.0428 - val_loss: 0.0377\n",
      "Epoch 134/200\n",
      "27/27 [==============================] - 6s 216ms/step - loss: 0.0359 - val_loss: 0.0331\n",
      "Epoch 135/200\n",
      "27/27 [==============================] - 6s 206ms/step - loss: 0.0378 - val_loss: 0.0460\n",
      "Epoch 136/200\n",
      "27/27 [==============================] - 5s 203ms/step - loss: 0.0386 - val_loss: 0.0368\n",
      "Epoch 137/200\n",
      "27/27 [==============================] - 6s 206ms/step - loss: 0.0351 - val_loss: 0.0343\n",
      "Epoch 138/200\n",
      "27/27 [==============================] - 5s 202ms/step - loss: 0.0386 - val_loss: 0.0339\n",
      "Epoch 139/200\n",
      "27/27 [==============================] - 6s 221ms/step - loss: 0.0459 - val_loss: 0.0729\n",
      "Epoch 140/200\n",
      "27/27 [==============================] - 6s 207ms/step - loss: 0.0555 - val_loss: 0.0384\n",
      "Epoch 141/200\n",
      "27/27 [==============================] - 5s 202ms/step - loss: 0.0399 - val_loss: 0.0354\n",
      "Epoch 142/200\n",
      "27/27 [==============================] - 6s 212ms/step - loss: 0.0345 - val_loss: 0.0333\n",
      "Epoch 143/200\n",
      "27/27 [==============================] - 6s 231ms/step - loss: 0.0334 - val_loss: 0.0322\n",
      "Epoch 144/200\n",
      "27/27 [==============================] - 6s 239ms/step - loss: 0.0619 - val_loss: 0.0667\n",
      "Epoch 145/200\n",
      "27/27 [==============================] - 6s 233ms/step - loss: 0.0583 - val_loss: 0.0525\n",
      "Epoch 146/200\n",
      "27/27 [==============================] - 6s 212ms/step - loss: 0.0516 - val_loss: 0.0397\n",
      "Epoch 147/200\n",
      "27/27 [==============================] - 6s 211ms/step - loss: 0.0353 - val_loss: 0.0346\n",
      "Epoch 148/200\n",
      "27/27 [==============================] - 6s 219ms/step - loss: 0.0344 - val_loss: 0.0409\n",
      "Epoch 149/200\n",
      "27/27 [==============================] - 5s 203ms/step - loss: 0.0391 - val_loss: 0.0413\n",
      "Epoch 150/200\n",
      "27/27 [==============================] - 5s 203ms/step - loss: 0.0335 - val_loss: 0.0306\n",
      "Epoch 151/200\n",
      "27/27 [==============================] - 6s 205ms/step - loss: 0.0320 - val_loss: 0.0302\n",
      "Epoch 152/200\n",
      "27/27 [==============================] - 5s 204ms/step - loss: 0.0325 - val_loss: 0.0388\n",
      "Epoch 153/200\n",
      "27/27 [==============================] - 5s 203ms/step - loss: 0.0388 - val_loss: 0.0375\n",
      "Epoch 154/200\n",
      "27/27 [==============================] - 6s 210ms/step - loss: 0.0366 - val_loss: 0.0324\n",
      "Epoch 155/200\n",
      "27/27 [==============================] - 6s 211ms/step - loss: 0.0357 - val_loss: 0.0344\n",
      "Epoch 156/200\n",
      "27/27 [==============================] - 6s 208ms/step - loss: 0.0355 - val_loss: 0.0580\n",
      "Epoch 157/200\n",
      "27/27 [==============================] - 6s 213ms/step - loss: 0.0372 - val_loss: 0.0381\n",
      "Epoch 158/200\n",
      "27/27 [==============================] - 6s 206ms/step - loss: 0.0402 - val_loss: 0.0394\n",
      "Epoch 159/200\n",
      "27/27 [==============================] - 6s 215ms/step - loss: 0.0404 - val_loss: 0.0364\n",
      "Epoch 160/200\n",
      "27/27 [==============================] - 6s 208ms/step - loss: 0.0390 - val_loss: 0.0371\n",
      "Epoch 161/200\n",
      "27/27 [==============================] - 6s 210ms/step - loss: 0.0349 - val_loss: 0.0435\n",
      "Epoch 162/200\n",
      "27/27 [==============================] - 6s 210ms/step - loss: 0.0374 - val_loss: 0.0357\n",
      "Epoch 163/200\n",
      "27/27 [==============================] - 6s 205ms/step - loss: 0.0398 - val_loss: 0.0398\n",
      "Epoch 164/200\n",
      "27/27 [==============================] - 6s 204ms/step - loss: 0.0334 - val_loss: 0.0369\n",
      "Epoch 165/200\n",
      "27/27 [==============================] - 6s 211ms/step - loss: 0.0355 - val_loss: 0.0298\n",
      "Epoch 166/200\n",
      "27/27 [==============================] - 6s 205ms/step - loss: 0.0437 - val_loss: 0.0554\n",
      "Epoch 167/200\n",
      "27/27 [==============================] - 6s 204ms/step - loss: 0.0613 - val_loss: 0.0561\n",
      "Epoch 168/200\n",
      "27/27 [==============================] - 6s 205ms/step - loss: 0.0588 - val_loss: 0.0446\n",
      "Epoch 169/200\n",
      "27/27 [==============================] - 5s 201ms/step - loss: 0.0425 - val_loss: 0.0377\n",
      "Epoch 170/200\n",
      "27/27 [==============================] - 5s 201ms/step - loss: 0.0335 - val_loss: 0.0310\n",
      "Epoch 171/200\n",
      "27/27 [==============================] - 6s 204ms/step - loss: 0.0312 - val_loss: 0.0293\n",
      "Epoch 172/200\n",
      "27/27 [==============================] - 5s 203ms/step - loss: 0.0325 - val_loss: 0.0370\n",
      "Epoch 173/200\n",
      "27/27 [==============================] - 5s 200ms/step - loss: 0.0363 - val_loss: 0.0372\n",
      "Epoch 174/200\n",
      "27/27 [==============================] - 5s 203ms/step - loss: 0.0449 - val_loss: 0.0348\n",
      "Epoch 175/200\n",
      "27/27 [==============================] - 5s 202ms/step - loss: 0.0344 - val_loss: 0.0320\n",
      "Epoch 176/200\n",
      "27/27 [==============================] - 6s 205ms/step - loss: 0.0306 - val_loss: 0.0296\n",
      "Epoch 177/200\n",
      "27/27 [==============================] - 6s 207ms/step - loss: 0.0362 - val_loss: 0.0533\n",
      "Epoch 178/200\n",
      "27/27 [==============================] - 5s 202ms/step - loss: 0.0583 - val_loss: 0.0560\n",
      "Epoch 179/200\n",
      "27/27 [==============================] - 6s 204ms/step - loss: 0.0425 - val_loss: 0.0336\n",
      "Epoch 180/200\n",
      "27/27 [==============================] - 5s 201ms/step - loss: 0.0339 - val_loss: 0.0338\n",
      "Epoch 181/200\n",
      "27/27 [==============================] - 5s 200ms/step - loss: 0.0373 - val_loss: 0.0430\n",
      "Epoch 182/200\n",
      "27/27 [==============================] - 6s 205ms/step - loss: 0.0374 - val_loss: 0.0351\n",
      "Epoch 183/200\n",
      "27/27 [==============================] - 6s 206ms/step - loss: 0.0365 - val_loss: 0.0385\n",
      "Epoch 184/200\n",
      "27/27 [==============================] - 5s 201ms/step - loss: 0.0375 - val_loss: 0.0330\n",
      "Epoch 185/200\n",
      "27/27 [==============================] - 6s 209ms/step - loss: 0.0335 - val_loss: 0.0312\n",
      "Epoch 186/200\n",
      "27/27 [==============================] - 6s 203ms/step - loss: 0.0336 - val_loss: 0.0289\n",
      "Epoch 187/200\n",
      "27/27 [==============================] - 6s 204ms/step - loss: 0.0325 - val_loss: 0.0470\n",
      "Epoch 188/200\n",
      "27/27 [==============================] - 6s 206ms/step - loss: 0.0406 - val_loss: 0.0298\n",
      "Epoch 189/200\n",
      "27/27 [==============================] - 6s 210ms/step - loss: 0.0346 - val_loss: 0.0352\n",
      "Epoch 190/200\n",
      "27/27 [==============================] - 5s 200ms/step - loss: 0.0323 - val_loss: 0.0317\n",
      "Epoch 191/200\n",
      "27/27 [==============================] - 6s 208ms/step - loss: 0.0331 - val_loss: 0.0342\n",
      "Epoch 192/200\n",
      "27/27 [==============================] - 6s 204ms/step - loss: 0.0339 - val_loss: 0.0303\n",
      "Epoch 193/200\n",
      "27/27 [==============================] - 5s 202ms/step - loss: 0.0330 - val_loss: 0.0297\n",
      "Epoch 194/200\n",
      "27/27 [==============================] - 6s 207ms/step - loss: 0.0353 - val_loss: 0.0339\n",
      "Epoch 195/200\n",
      "27/27 [==============================] - 6s 204ms/step - loss: 0.0382 - val_loss: 0.0784\n",
      "Epoch 196/200\n",
      "27/27 [==============================] - 5s 202ms/step - loss: 0.0396 - val_loss: 0.0314\n",
      "Epoch 197/200\n",
      "27/27 [==============================] - 6s 208ms/step - loss: 0.0353 - val_loss: 0.0337\n",
      "Epoch 198/200\n",
      "27/27 [==============================] - 6s 209ms/step - loss: 0.0346 - val_loss: 0.0341\n",
      "Epoch 199/200\n",
      "27/27 [==============================] - 6s 206ms/step - loss: 0.0386 - val_loss: 0.0342\n",
      "Epoch 200/200\n",
      "27/27 [==============================] - 6s 217ms/step - loss: 0.0383 - val_loss: 0.0531\n"
     ]
    }
   ],
   "source": [
    "history = model.fit(\n",
    "    x_train,\n",
    "    x_train,\n",
    "    epochs=200,\n",
    "    batch_size=128,\n",
    "    validation_split=0.1,\n",
    "    callbacks=[\n",
    "        keras.callbacks.EarlyStopping(monitor=\"val_loss\", patience=25, mode=\"min\", restore_best_weights=True)\n",
    "    ],\n",
    ")"
   ]
  },
  {
   "cell_type": "code",
   "execution_count": 45,
   "metadata": {},
   "outputs": [
    {
     "data": {
      "text/plain": [
       "<matplotlib.legend.Legend at 0xf85b8dbdc0>"
      ]
     },
     "execution_count": 45,
     "metadata": {},
     "output_type": "execute_result"
    },
    {
     "data": {
      "image/png": "[encoded data removed]",
      "text/plain": [
       "<Figure size 432x288 with 1 Axes>"
      ]
     },
     "metadata": {
      "needs_background": "light"
     },
     "output_type": "display_data"
    }
   ],
   "source": [
    "plt.plot(history.history[\"loss\"], label=\"Training Loss\")\n",
    "plt.plot(history.history[\"val_loss\"], label=\"Validation Loss\")\n",
    "plt.legend()"
   ]
  },
  {
   "cell_type": "code",
   "execution_count": null,
   "metadata": {},
   "outputs": [],
   "source": [
    "'''Detecting anomalies\n",
    "We will detect anomalies by determining how well our model can reconstruct the input data.\n",
    "\n",
    "Find MAE loss on training samples.\n",
    "Find max MAE loss value. This is the worst our model has performed trying to reconstruct a sample. \n",
    "We will make this the threshold for anomaly detection.\n",
    "If the reconstruction loss for a sample is greater than this threshold value then we can infer that \n",
    "the model is seeing a pattern that it isn't familiar with. We will label this sample as an anomaly.'''"
   ]
  },
  {
   "cell_type": "code",
   "execution_count": 46,
   "metadata": {},
   "outputs": [
    {
     "name": "stdout",
     "output_type": "stream",
     "text": [
      "117/117 [==============================] - 4s 30ms/step\n"
     ]
    },
    {
     "data": {
      "image/png": "[encoded data removed]",
      "text/plain": [
       "<Figure size 432x288 with 1 Axes>"
      ]
     },
     "metadata": {
      "needs_background": "light"
     },
     "output_type": "display_data"
    },
    {
     "name": "stdout",
     "output_type": "stream",
     "text": [
      "Reconstruction error threshold:  0.19252074465089417\n"
     ]
    }
   ],
   "source": [
    "# Get train MAE loss.\n",
    "x_train_pred = model.predict(x_train)\n",
    "train_mae_loss = np.mean(np.abs(x_train_pred - x_train), axis=1)\n",
    "\n",
    "plt.hist(train_mae_loss, bins=50)\n",
    "plt.xlabel(\"Train MAE loss\")\n",
    "plt.ylabel(\"No of samples\")\n",
    "plt.show()\n",
    "\n",
    "# Get reconstruction loss threshold.\n",
    "threshold = np.max(train_mae_loss)\n",
    "print(\"Reconstruction error threshold: \", threshold)"
   ]
  },
  {
   "cell_type": "code",
   "execution_count": null,
   "metadata": {},
   "outputs": [],
   "source": [
    "'''Compare recontruction\n",
    "Just for fun, let's see how our model has recontructed the first sample. This is the 288 timesteps from day 1 \n",
    "of our training dataset.'''"
   ]
  },
  {
   "cell_type": "code",
   "execution_count": 47,
   "metadata": {},
   "outputs": [
    {
     "data": {
      "image/png": "[encoded data removed]",
      "text/plain": [
       "<Figure size 432x288 with 1 Axes>"
      ]
     },
     "metadata": {
      "needs_background": "light"
     },
     "output_type": "display_data"
    },
    {
     "data": {
      "image/png": "[encoded data removed]",
      "text/plain": [
       "<Figure size 432x288 with 1 Axes>"
      ]
     },
     "metadata": {
      "needs_background": "light"
     },
     "output_type": "display_data"
    }
   ],
   "source": [
    "# Checking how the first sequence is learnt\n",
    "plt.plot(x_train[0])\n",
    "plt.show()\n",
    "plt.plot(x_train_pred[0])\n",
    "plt.show()"
   ]
  },
  {
   "cell_type": "code",
   "execution_count": 48,
   "metadata": {},
   "outputs": [
    {
     "data": {
      "image/png": "[encoded data removed]",
      "text/plain": [
       "<Figure size 432x288 with 1 Axes>"
      ]
     },
     "metadata": {
      "needs_background": "light"
     },
     "output_type": "display_data"
    },
    {
     "name": "stdout",
     "output_type": "stream",
     "text": [
      "Test input shape:  (3744, 288, 1)\n",
      "117/117 [==============================] - 4s 30ms/step\n"
     ]
    },
    {
     "data": {
      "image/png": "[encoded data removed]",
      "text/plain": [
       "<Figure size 432x288 with 1 Axes>"
      ]
     },
     "metadata": {
      "needs_background": "light"
     },
     "output_type": "display_data"
    },
    {
     "name": "stdout",
     "output_type": "stream",
     "text": [
      "Number of anomaly samples:  391\n",
      "Indices of anomaly samples:  (array([ 508, 2701, 2703, 2704, 2705, 2706, 2707, 2708, 2709, 2710, 2711,\n",
      "       2712, 2713, 2714, 2715, 2716, 2717, 2718, 2719, 2720, 2721, 2722,\n",
      "       2723, 2724, 2725, 2726, 2727, 2728, 2729, 2730, 2731, 2732, 2733,\n",
      "       2734, 2735, 2736, 2737, 2738, 2739, 2740, 2741, 2742, 2743, 2744,\n",
      "       2745, 2746, 2747, 2748, 2749, 2750, 2751, 2752, 2753, 2754, 2755,\n",
      "       2756, 2757, 2758, 2759, 2760, 2761, 2762, 2763, 2764, 2765, 2766,\n",
      "       2767, 2768, 2769, 2770, 2771, 2772, 2773, 2774, 2775, 2776, 2777,\n",
      "       2778, 2779, 2780, 2781, 2782, 2783, 2784, 2785, 2786, 2787, 2788,\n",
      "       2789, 2790, 2791, 2792, 2793, 2794, 2795, 2796, 2797, 2798, 2799,\n",
      "       2800, 2801, 2802, 2803, 2804, 2805, 2806, 2807, 2808, 2809, 2810,\n",
      "       2811, 2812, 2813, 2814, 2815, 2816, 2817, 2818, 2819, 2820, 2821,\n",
      "       2822, 2823, 2824, 2825, 2826, 2827, 2828, 2829, 2830, 2831, 2832,\n",
      "       2833, 2834, 2835, 2836, 2837, 2838, 2839, 2840, 2841, 2842, 2843,\n",
      "       2844, 2845, 2846, 2847, 2848, 2849, 2850, 2851, 2852, 2853, 2854,\n",
      "       2855, 2856, 2857, 2858, 2859, 2860, 2861, 2862, 2863, 2864, 2865,\n",
      "       2866, 2867, 2868, 2869, 2870, 2871, 2872, 2873, 2874, 2875, 2876,\n",
      "       2877, 2878, 2879, 2880, 2881, 2882, 2883, 2884, 2885, 2886, 2887,\n",
      "       2888, 2889, 2890, 2891, 2892, 2893, 2894, 2895, 2896, 2897, 2898,\n",
      "       2899, 2900, 2901, 2902, 2903, 2904, 2905, 2906, 2907, 2908, 2909,\n",
      "       2910, 2911, 2912, 2913, 2914, 2915, 2916, 2917, 2918, 2919, 2920,\n",
      "       2921, 2922, 2923, 2924, 2925, 2926, 2927, 2928, 2929, 2930, 2931,\n",
      "       2932, 2933, 2934, 2935, 2936, 2937, 2938, 2939, 2940, 2941, 2942,\n",
      "       2943, 2944, 2945, 2946, 2947, 2948, 2949, 2950, 2951, 2952, 2953,\n",
      "       2954, 2955, 2956, 2957, 2958, 2959, 2960, 2961, 2962, 2963, 2964,\n",
      "       2965, 2966, 2967, 2968, 2969, 2970, 2971, 2972, 2973, 2974, 2975,\n",
      "       2976, 2977, 2978, 2979, 2980, 2981, 2982, 2983, 2984, 2985, 2986,\n",
      "       2987, 2988, 2989, 2990, 2991, 2992, 2993, 2994, 2995, 2996, 2997,\n",
      "       2998, 2999, 3000, 3001, 3002, 3003, 3004, 3005, 3006, 3007, 3008,\n",
      "       3009, 3010, 3011, 3012, 3013, 3014, 3015, 3016, 3017, 3018, 3019,\n",
      "       3020, 3021, 3022, 3023, 3024, 3025, 3026, 3027, 3028, 3029, 3030,\n",
      "       3031, 3032, 3033, 3034, 3035, 3036, 3037, 3038, 3039, 3040, 3041,\n",
      "       3042, 3043, 3044, 3045, 3046, 3047, 3048, 3049, 3050, 3051, 3052,\n",
      "       3053, 3054, 3055, 3056, 3057, 3058, 3059, 3060, 3061, 3062, 3063,\n",
      "       3064, 3065, 3066, 3067, 3068, 3069, 3070, 3071, 3072, 3073, 3074,\n",
      "       3075, 3076, 3077, 3078, 3079, 3080, 3081, 3082, 3083, 3084, 3085,\n",
      "       3086, 3087, 3088, 3089, 3090, 3676], dtype=int64),)\n"
     ]
    }
   ],
   "source": [
    "#Prepare test data\n",
    "\n",
    "def normalize_test(values, mean, std):\n",
    "    values -= mean\n",
    "    values /= std\n",
    "    return values\n",
    "\n",
    "\n",
    "test_value = get_value_from_df(df_daily_jumpsup)\n",
    "test_value = normalize_test(test_value, training_mean, training_std)\n",
    "plt.plot(test_value.tolist())\n",
    "plt.show()\n",
    "\n",
    "# Create sequences from test values.\n",
    "x_test = create_sequences(test_value)\n",
    "print(\"Test input shape: \", x_test.shape)\n",
    "\n",
    "# Get test MAE loss.\n",
    "x_test_pred = model.predict(x_test)\n",
    "test_mae_loss = np.mean(np.abs(x_test_pred - x_test), axis=1)\n",
    "test_mae_loss = test_mae_loss.reshape((-1))\n",
    "\n",
    "plt.hist(test_mae_loss, bins=50)\n",
    "plt.xlabel(\"test MAE loss\")\n",
    "plt.ylabel(\"No of samples\")\n",
    "plt.show()\n",
    "\n",
    "# Detect all the samples which are anomalies.\n",
    "anomalies = (test_mae_loss > threshold).tolist()\n",
    "print(\"Number of anomaly samples: \", np.sum(anomalies))\n",
    "print(\"Indices of anomaly samples: \", np.where(anomalies))"
   ]
  },
  {
   "cell_type": "code",
   "execution_count": null,
   "metadata": {},
   "outputs": [],
   "source": [
    "'''Plot anomalies\n",
    "We now know the samples of the data which are anomalies. \n",
    "With this, we will find the corresponding timestamps from the original test data. \n",
    "We will be using the following method to do that:\n",
    "\n",
    "Let's say time_steps = 3 and we have 10 training values. Our x_train will look like this:\n",
    "\n",
    "0, 1, 2\n",
    "1, 2, 3\n",
    "2, 3, 4\n",
    "3, 4, 5\n",
    "4, 5, 6\n",
    "5, 6, 7\n",
    "6, 7, 8\n",
    "7, 8, 9\n",
    "All except the initial and the final time_steps-1 data values, will appear in time_steps number of samples.\n",
    "So, if we know that the samples [(3, 4, 5), (4, 5, 6), (5, 6, 7)] are anomalies, we can say that the data point 5 is an anomaly.'''"
   ]
  },
  {
   "cell_type": "code",
   "execution_count": 49,
   "metadata": {},
   "outputs": [],
   "source": [
    "# data i is an anomaly if samples [(i - timesteps + 1) to (i)] are anomalies\n",
    "anomalous_data_indices = []\n",
    "for data_idx in range(TIME_STEPS - 1, len(test_value) - TIME_STEPS + 1):\n",
    "    time_series = range(data_idx - TIME_STEPS + 1, data_idx)\n",
    "    if all([anomalies[j] for j in time_series]):\n",
    "        anomalous_data_indices.append(data_idx)"
   ]
  },
  {
   "cell_type": "code",
   "execution_count": null,
   "metadata": {},
   "outputs": [],
   "source": [
    "'''Let's overlay the anomalies on the original test data plot.'''"
   ]
  },
  {
   "cell_type": "code",
   "execution_count": 50,
   "metadata": {},
   "outputs": [
    {
     "data": {
      "image/png": "[encoded data removed]",
      "text/plain": [
       "<Figure size 432x288 with 1 Axes>"
      ]
     },
     "metadata": {
      "needs_background": "light"
     },
     "output_type": "display_data"
    }
   ],
   "source": [
    "df_subset = df_daily_jumpsup.iloc[anomalous_data_indices, :]\n",
    "plt.subplots_adjust(bottom=0.2)\n",
    "plt.xticks(rotation=25)\n",
    "ax = plt.gca()\n",
    "xfmt = mdates.DateFormatter(\"%Y-%m-%d %H:%M:%S\")\n",
    "ax.xaxis.set_major_formatter(xfmt)\n",
    "\n",
    "dates = df_daily_jumpsup[\"timestamp\"].to_list()\n",
    "dates = [datetime.strptime(x, \"%Y-%m-%d %H:%M:%S\") for x in dates]\n",
    "values = df_daily_jumpsup[\"value\"].to_list()\n",
    "plt.plot(dates, values, label=\"test data\")\n",
    "\n",
    "dates = df_subset[\"timestamp\"].to_list()\n",
    "dates = [datetime.strptime(x, \"%Y-%m-%d %H:%M:%S\") for x in dates]\n",
    "values = df_subset[\"value\"].to_list()\n",
    "plt.plot(dates, values, label=\"anomalies\", color=\"r\")\n",
    "\n",
    "plt.legend()\n",
    "plt.show()"
   ]
  },
  {
   "cell_type": "code",
   "execution_count": 53,
   "metadata": {},
   "outputs": [
    {
     "name": "stdout",
     "output_type": "stream",
     "text": [
      "Collecting torch\n",
      "  Downloading torch-1.12.0-cp38-cp38-win_amd64.whl (161.9 MB)\n",
      "Requirement already satisfied: typing-extensions in c:\\programdata\\anaconda3\\lib\\site-packages (from torch) (3.7.4.2)\n",
      "Installing collected packages: torch\n",
      "Successfully installed torch-1.12.0\n"
     ]
    }
   ],
   "source": []
  }
 ],
 "metadata": {
  "kernelspec": {
   "display_name": "Python 3",
   "language": "python",
   "name": "python3"
  },
  "language_info": {
   "codemirror_mode": {
    "name": "ipython",
    "version": 3
   },
   "file_extension": ".py",
   "mimetype": "text/x-python",
   "name": "python",
   "nbconvert_exporter": "python",
   "pygments_lexer": "ipython3",
   "version": "3.8.3"
  }
 },
 "nbformat": 4,
 "nbformat_minor": 4
}
